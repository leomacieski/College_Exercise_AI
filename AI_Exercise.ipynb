{
 "cells": [
  {
   "cell_type": "markdown",
   "id": "4adfb425",
   "metadata": {},
   "source": [
    "## Logical problem:\n",
    "There are seven fire officers and four offices. Because there are more\n",
    "fire officers than offices, some fire officers have to be in the same offices as others. However, the\n",
    "fire officers are very picky about who they share with. The community administration is having\n",
    "trouble assigning fire officers to offices. They have asked you to plan where each fire officer goes.\n",
    "\n",
    "\n",
    "The fire officers are: Phylis, Ann, Henry, Eva, Bill, Mark, and Bob.\n",
    "\n",
    "Each fire person has restrictions about where they can be placed.\n",
    "1. Phylis and Eva don't get on, and do not want to be in the same office.\n",
    "2. Mark and Bob are best friends and have to be in the same office.\n",
    "3. Henry listens to loud music. Only Eva will share his office.\n",
    "4. Eva doesn't talk to Mark, Bob, and Bill.\n",
    "5. Ann is always late but is a great fire officer. To hide that Ann is always late, Ann cannot be in either the same office or in an office adjacent to Phylis or Eva.\n",
    "6. Phylis annoys Bill, so Bill doesn't want to be in Phylis's office.\n",
    "7. Phylis is the fire chief, so she wants to be in office 1.\n",
    "\n",
    "How can the problem above be solved?"
   ]
  },
  {
   "cell_type": "code",
   "execution_count": 4,
   "id": "68afc6a7",
   "metadata": {},
   "outputs": [],
   "source": [
    "import csp\n",
    "from csp import Constraint, CSP"
   ]
  },
  {
   "cell_type": "code",
   "execution_count": 5,
   "id": "efc3502b",
   "metadata": {},
   "outputs": [
    {
     "name": "stdout",
     "output_type": "stream",
     "text": [
      "{'Phylis': 1, 'Ann': 4, 'Henry': 2, 'Eva': 2, 'Bill': 3, 'Mark': 1, 'Bob': 1}\n"
     ]
    }
   ],
   "source": [
    "from typing import Dict, List, Optional\n",
    "\n",
    "#varible for the offices\n",
    "class FireStationConstraint(Constraint[str, str]):\n",
    "    def __init__(self, officer1: str, officer2: str) -> None:\n",
    "        super().__init__([officer1, officer2])\n",
    "        self.officer1: str = officer1\n",
    "        self.officer2: str = officer2\n",
    "\n",
    "    def satisfied(self, assignment: Dict[str, int]) -> bool:\n",
    "        if self.officer1 not in assignment or self.officer2 not in assignment:\n",
    "            return True\n",
    "        # check that the officers are not assigned to the same office\n",
    "        return assignment[self.officer1] != assignment[self.officer2]\n",
    "    \n",
    "#varible for Mark and Bob    \n",
    "class MarkBobConstraint(Constraint[str, str]):\n",
    "    def __init__(self) -> None:\n",
    "        super().__init__([\"Mark\", \"Bob\"])\n",
    "\n",
    "    def satisfied(self, assignment: Dict[str, int]) -> bool:\n",
    "        if \"Mark\" not in assignment or \"Bob\" not in assignment:\n",
    "            return True\n",
    "        # Check that Mark and Bob are in the same office\n",
    "        return assignment[\"Mark\"] == assignment[\"Bob\"]\n",
    "\n",
    "#vriable for Ann\n",
    "class AnnConstraint(Constraint[str, str]):\n",
    "    def __init__(self) -> None:\n",
    "        super().__init__([\"Ann\", \"Phylis\", \"Eva\"])\n",
    "\n",
    "    def satisfied(self, assignment: Dict[str, int]) -> bool:\n",
    "        if \"Ann\" not in assignment or \"Phylis\" not in assignment or \"Eva\" not in assignment:\n",
    "            return True\n",
    "        # Check that Ann is not in an office adjacent to Phylis or Eva\n",
    "        return (assignment[\"Ann\"] - assignment[\"Phylis\"]) > 1 and (assignment[\"Ann\"] - assignment[\"Eva\"]) > 1\n",
    "\n",
    "if __name__ == \"__main__\":\n",
    "    variables: List[str] = [\"Phylis\", \"Ann\", \"Henry\", \"Eva\", \"Bill\", \"Mark\", \"Bob\"]\n",
    "    domains: Dict[str, List[int]] = {}\n",
    "    for variable in variables:\n",
    "        domains[variable] = [1, 2, 3, 4]\n",
    "        \n",
    "    csp: CSP[str, int] = CSP(variables, domains)\n",
    "    \n",
    "    # add constraints\n",
    "    #Phylis and Eva dont get on, and do not want to be in the same  office.\n",
    "    csp.add_constraint(FireStationConstraint(\"Phylis\", \"Eva\"))\n",
    "    #Henry listens to loud music. Only Eva will share his office.\n",
    "    csp.add_constraint(FireStationConstraint(\"Henry\", \"Phylis\"))\n",
    "    csp.add_constraint(FireStationConstraint(\"Henry\", \"Ann\"))\n",
    "    csp.add_constraint(FireStationConstraint(\"Henry\", \"Mark\"))\n",
    "    csp.add_constraint(FireStationConstraint(\"Henry\", \"Bob\"))\n",
    "    csp.add_constraint(FireStationConstraint(\"Henry\", \"Bill\"))\n",
    "    #Eva doesn't talk to Mark, Bob, and Bill.\n",
    "    csp.add_constraint(FireStationConstraint(\"Eva\", \"Mark\"))\n",
    "    csp.add_constraint(FireStationConstraint(\"Eva\", \"Bob\"))\n",
    "    csp.add_constraint(FireStationConstraint(\"Eva\", \"Bill\"))\n",
    "    #Ann is always late but is a great fire officer. To hide that Ann is always late, \n",
    "    #Ann cannot be in either the same office or in an office adjacent to Phylis or Eva.\n",
    "    csp.add_constraint(FireStationConstraint(\"Ann\", \"Phylis\"))\n",
    "    csp.add_constraint(FireStationConstraint(\"Ann\", \"Eva\"))\n",
    "    csp.add_constraint(AnnConstraint())\n",
    "    #Phylis annoys Bill, so Bill doesn't want to be in Phylis's office.\n",
    "    csp.add_constraint(FireStationConstraint(\"Bill\", \"Phylis\"))\n",
    "    #Mark and Bob are best friends and have to be in the same office\n",
    "    csp.add_constraint(MarkBobConstraint())\n",
    "    \n",
    "\n",
    "    \n",
    "    solution: Optional[Dict[str, int]] = csp.backtracking_search()\n",
    "    if solution is None:\n",
    "        print(\"No solution found!\")\n",
    "    else:\n",
    "        print(solution)\n"
   ]
  },
  {
   "cell_type": "code",
   "execution_count": null,
   "id": "4f1b8887",
   "metadata": {},
   "outputs": [],
   "source": []
  }
 ],
 "metadata": {
  "kernelspec": {
   "display_name": "Python 3 (ipykernel)",
   "language": "python",
   "name": "python3"
  },
  "language_info": {
   "codemirror_mode": {
    "name": "ipython",
    "version": 3
   },
   "file_extension": ".py",
   "mimetype": "text/x-python",
   "name": "python",
   "nbconvert_exporter": "python",
   "pygments_lexer": "ipython3",
   "version": "3.9.12"
  }
 },
 "nbformat": 4,
 "nbformat_minor": 5
}
